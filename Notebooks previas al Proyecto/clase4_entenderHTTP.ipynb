{
 "cells": [
  {
   "cell_type": "markdown",
   "source": "# HTTP\n## Hypertext Transfer Protocol\nEs un protocolo de transferencia de hypertexto, por medio del cual se comunican dos computadoras.\nCliente y servidor: \n* Cliente realiza una petición al servidor para que le mande el navegador.",
   "metadata": {
    "cell_id": "e305ecd635b04d559dd3195f5bb5bf8c",
    "tags": [],
    "deepnote_cell_type": "markdown",
    "deepnote_cell_height": 249.171875
   }
  },
  {
   "cell_type": "markdown",
   "source": "# PETICIÓN\n\n",
   "metadata": {
    "cell_id": "cf0616961fc745c3965e250dc3cb9fa8",
    "tags": [],
    "deepnote_cell_type": "markdown",
    "deepnote_cell_height": 82
   }
  },
  {
   "cell_type": "markdown",
   "source": "![Picture title](image-20220503-161156.png)",
   "metadata": {
    "cell_id": "a3b64f4b7c064e8d9beb147c82086f6f",
    "tags": [],
    "deepnote_cell_type": "markdown",
    "deepnote_cell_height": 345.0625
   }
  },
  {
   "cell_type": "markdown",
   "source": "# Estrucura de la requests:\n## Request (Petición)\n1. Método y Versión del protocolo:\n* GET (Traer) / Versión de protocolo: HTTP/1.1\n2. Host: developer.mozilla.org ( o el del sitio que utilizas)\n3. Accept-Language:fr (Francés)\n\n## Response (Respuesta)\n1. Versión de protocolo del servidor y status quot: HTTP/1.1   200 OK\n#### Algunos tipos de respuestas:\n* Códigos de estado HTTP más comunes\n* Status code 200 – OK.\n* Status code 301 – Moved Permanently.\n* Status code 302 – Moved Temporarily.\n* Status code 403 – Forbidden\n* Status code 404 – Not Found\n* Status code 500 – Internal Server Error\n* Status code 503 ­– Service Unavailable\n\n2. Date (Fecha en la cual se genero la respuesta): Sat, 09 Oct 2010 14:28:02 GMT\n3. Server (Donde se actulizo la respuesta): Apache\n4. Last-Modified(Ultima fecha de modificación de la respuesta):Tue, 01 Dec 2009 20:18:22 GMT\n5. ETag(Relacionado con el Caché): \"51142bc1-7449-479b075b2891b\"\n6. Accept-Range(En que se aceptan): bytes\n7. Content-Length(Tamañno de ar): 29769\n8. Content-Type(Tipo de contenido del texto que se repondio): text/html\n\n",
   "metadata": {
    "cell_id": "7d1fc474ef81424a8e71deb32cadea57",
    "tags": [],
    "deepnote_cell_type": "markdown",
    "deepnote_cell_height": 876.59375
   }
  },
  {
   "cell_type": "markdown",
   "source": "",
   "metadata": {
    "cell_id": "0c43e3a8eec041eca74f90bdb6f9845f",
    "tags": [],
    "owner_user_id": "46fc49a6-85dd-4f3e-a856-828c508d5f95",
    "deepnote_cell_type": "markdown",
    "deepnote_cell_height": 46
   }
  },
  {
   "cell_type": "markdown",
   "source": "![Picture title](image-20220503-162556.png)",
   "metadata": {
    "cell_id": "8ff22e7100644828a88f14c5c84f60d2",
    "tags": [],
    "deepnote_cell_type": "markdown",
    "deepnote_cell_height": 70
   }
  },
  {
   "cell_type": "markdown",
   "source": "<a style='text-decoration:none;line-height:16px;display:flex;color:#5B5B62;padding:10px;justify-content:end;' href='https://deepnote.com?utm_source=created-in-deepnote-cell&projectId=5de5f16a-6fc2-4d62-b482-732e375eb9ab' target=\"_blank\">\n<img alt='Created in deepnote.com' style='display:inline;max-height:16px;margin:0px;margin-right:7.5px;' src='data:image/svg+xml;base64,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' > </img>\nCreated in <span style='font-weight:600;margin-left:4px;'>Deepnote</span></a>",
   "metadata": {
    "tags": [],
    "created_in_deepnote_cell": true,
    "deepnote_cell_type": "markdown"
   }
  }
 ],
 "nbformat": 4,
 "nbformat_minor": 2,
 "metadata": {
  "orig_nbformat": 2,
  "deepnote": {},
  "deepnote_notebook_id": "1bc3e7e4-d282-4741-b1da-93874784779d",
  "deepnote_execution_queue": []
 }
}