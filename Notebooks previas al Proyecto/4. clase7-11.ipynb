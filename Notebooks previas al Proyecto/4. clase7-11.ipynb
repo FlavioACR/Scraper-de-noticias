{
 "cells": [
  {
   "cell_type": "markdown",
   "source": "# Clase 7\n## XML Path Language\n",
   "metadata": {
    "cell_id": "0e5200152d204716a27b5eed708d6dc8",
    "tags": [],
    "deepnote_cell_type": "markdown",
    "deepnote_cell_height": 138
   }
  },
  {
   "cell_type": "markdown",
   "source": "",
   "metadata": {
    "cell_id": "b763fa46ad7147a19d34fc6e2f855dfc",
    "tags": [],
    "deepnote_cell_type": "markdown",
    "deepnote_cell_height": 46
   }
  },
  {
   "cell_type": "markdown",
   "source": "## X tencible Marker Language\nLeguaje muy parecido a HTLM, formato por nodos y etiquetas.",
   "metadata": {
    "cell_id": "f64a0d68b2f84151b13a9260f54ec6f0",
    "tags": [],
    "deepnote_cell_type": "markdown",
    "deepnote_cell_height": 108.390625
   }
  },
  {
   "cell_type": "markdown",
   "source": "### Ejemplo:\n\n//div/span//h1[@class=\"title\"][1]\n\n* Significado: Leerlo de derecha a izquierda:\n    * Extraer el titulo numero 1 de un span que esta dentro de un div.",
   "metadata": {
    "cell_id": "f0f0c82cadc14cacb6c75379864bacda",
    "tags": [],
    "deepnote_cell_type": "markdown",
    "deepnote_cell_height": 176.171875
   }
  },
  {
   "cell_type": "markdown",
   "source": "## Tipos de Nodos:\nNodo es lo mismo que una etiqueta y su contenido.\n",
   "metadata": {
    "cell_id": "e0a6e4654313453a9e72e4ba6b86e60a",
    "tags": [],
    "deepnote_cell_type": "markdown",
    "deepnote_cell_height": 108.390625
   }
  },
  {
   "cell_type": "markdown",
   "source": "## Expresiones en XPath:\n",
   "metadata": {
    "cell_id": "e8d8ef41824c476e88157d30f471549d",
    "tags": [],
    "deepnote_cell_type": "markdown",
    "deepnote_cell_height": 70
   }
  },
  {
   "cell_type": "markdown",
   "source": "Para establecer una expresión se requiere la siguiente sintaxis:\n* $x(' ') : Dentro de la cual en las comillas se colocarán las expresiones Xpath.\n\n### Ejemplos:\n1. $x('/') :\n    * El nodo raiz de representa con / ,es  la raiz del documento la extración de todo o la extracción entre nodos. Para seleccionar determinado nodo (etiqueta htlm), solo colocar el titulo del nodo despues del slash '/', como una ruta.\n2. $x('//') :\n    * Indica salto entre nodos, para saltar o seleccionar los nodos colocar el nombre del nodo despues de los dos \"//\". \n    * Si agregamos el siguiente parametro; $x('//h1/a/text()'):\n        * Obtenemos todo el texto que existe dentro de ese nodo.\n    * Para visualizarlo; $x('//h1/a/text()').map(x => x.wholetext), esta función es de JavaScript.\n3. $x('//span/..'):\n    * Seleccionar los nodos padres de un nodo (span)\n        * Retorna:\n            * (13) [div.quote, div.quote, div.quote, div.quote, div.quote, div.quote, div.quote, div.quote, div.quote, div.quote, a, div.col-md-4.tags-box, p.copyright]\n4. $x('//span/@'):\n    1. Colocas despues de los dos // el nombre del nodo\n    2. Despues del nombre del nodo un / y despues un @ despues del @ colocas el tipo de atributo.\n    * En el ejemplo se extraen los atributos de tipo class el nodo span:\n        * Retorna:\n            * (21) [class, class, class, class, class, class, class, class, class, class, class, class, class, class, class, class, class, class, class, class, class]",
   "metadata": {
    "cell_id": "0f9f722d4310408a9eb0817727ca5013",
    "tags": [],
    "owner_user_id": "46fc49a6-85dd-4f3e-a856-828c508d5f95",
    "deepnote_cell_type": "markdown",
    "deepnote_cell_height": 670.8125
   }
  },
  {
   "cell_type": "markdown",
   "source": "## Predicados Xpath:\n",
   "metadata": {
    "cell_id": "ad11a3d6b19046c98550a8dce8e350ab",
    "tags": [],
    "deepnote_cell_type": "markdown",
    "deepnote_cell_height": 70
   }
  },
  {
   "cell_type": "markdown",
   "source": "### Ejemplos:\nSiempre se escriben entre corchetes.\n\n1. Seleccionar de con esta expresión:\n    * $x('/html/body/div/div')\n    * Retorna, todos los elementos:\n        * (2) [div.row.header-box, div.row]\n2. Seleccionar solo un determinado elemento (primero):\n    * $x('/html/body/div/div[1]')\n    * Retorna, todos los elementos:\n        * [div.row.header-box]\n3. Seleccionar solo el ultimo elemento:\n    * $x('/html/body/div/div[last()]')\n    * Retorna, todos los elementos:\n        * [div.row]\n4. Traer todos los elementos de tipo span, con atributo tipo clase:\n    * $x('//span[@class]'):\n    * Retorna:\n        * (21) [span.text, span.text, span.text, span.text, span.text, span.text, span.text, span.text, span.text, span.text, span.tag-item, span.tag-item, span.tag-item, span.tag-item, span.tag-item, span.tag-item, span.tag-item, span.tag-item, span.tag-item, span.tag-item, span.sh-red]\n4. Traer todos los elementos de tipo span, con atributo tipo clase y que el atributo sea tipo texto:\n    * $x('//span[@class=\"text\"]'):\n    * Retorna:\n        * (10) [span.text, span.text, span.text, span.text, span.text, span.text, span.text, span.text, span.text, span.text]\n5. Ver el texto de la expresión pasada:\n    * $x('//span[@class= \"text\"]/text()').map(x => x.wholeText):\n        * Retorna:\n            *(10): \"“The world as we have created it is a process of our thinking. It cannot be changed without changing our thinking.”\"1: \"“It is our choices, Harry, that show what we truly are, far more than our abilities.”\"2: \"“There are only two ways to live your life. One is as though nothing is a miracle. The other is as though everything is a miracle.”\"3: \"“The person, be it gentleman or lady, who has not pleasure in a good novel, must be intolerably stupid.”\"4: \"“Imperfection is beauty, madness is genius and it's better to be absolutely ridiculous than absolutely boring.”\"5: \"“Try not to become a man of success. Rather become a man of value.”\"6: \"“It is better to be hated for what you are than to be loved for what you are not.”\"7: \"“I have not failed. I've just found 10,000 ways that won't work.”\"8: \"“A woman is like a tea bag; you never know how strong it is until it's in hot water.”\"9: \"“A day without sunshine is like, you know, night.”\"length: 10[[Prototype]]: Array(0)\n\n",
   "metadata": {
    "cell_id": "18d6bd9656af41a38eeb626dd89cfdd6",
    "tags": [],
    "deepnote_cell_type": "markdown",
    "deepnote_cell_height": 898.71875
   }
  },
  {
   "cell_type": "markdown",
   "source": "## Operadores:\nComplemento de predicados y permite filtras de manera mas especifica.",
   "metadata": {
    "cell_id": "8b0a23019ca346bea0e733a98a2d1354",
    "tags": [],
    "deepnote_cell_type": "markdown",
    "deepnote_cell_height": 108.390625
   }
  },
  {
   "cell_type": "markdown",
   "source": "### Ejemplos:\n\n1. Filtrar por una no coincidencia, nodo span con clase diferente a \"text\":\n    * $x('//span[@class != \"text\"]')\n        * Retorna:\n            * (11) [span.tag-item, span.tag-item, span.tag-item, span.tag-item, span.tag-item, span.tag-item, span.tag-item, span.tag-item, span.tag-item, span.tag-item, span.sh-red]\n2. Traer de una ruta de nodos valores determinados por operadores como; >,<,=,-, etc.\n    * $x('/html/body/div/div[position()>1]')\n        * Retorna filtro por el operador:\n            *[div.row]\n3. #### Operadores Logicos:\n    * and:\n        * $x('//span[@class = \"text\" and @class = \"tag-item\"]'):\n            * Retorna:\n                * []\n    * or:\n        * $x('//span[@class = \"text\" or @class = \"tag-item\"]'):\n            * Retorna:\n                * (20) [span.text, span.text, span.text, span.text, span.text, span.text, span.text, span.text, span.text, span.text, span.tag-item, span.tag-item, span.tag-item, span.tag-item, span.tag-item, span.tag-item, span.tag-item, span.tag-item, span.tag-item, span.tag-item]\n    * not:\n        * $x('//span[not(@class)]'):\n            * Retorna:\n                * (11) [span, span, span, span, span, span, span, span, span, span, span]\n            \n",
   "metadata": {
    "cell_id": "900b264ffe9448568e4016b95de3c87d",
    "tags": [],
    "deepnote_cell_type": "markdown",
    "deepnote_cell_height": 673.8125
   }
  },
  {
   "cell_type": "markdown",
   "source": "",
   "metadata": {
    "cell_id": "10b6b4343d0e49dd9ab4658cd366e932",
    "tags": [],
    "deepnote_cell_type": "markdown",
    "deepnote_cell_height": 46
   }
  },
  {
   "cell_type": "markdown",
   "source": "<a style='text-decoration:none;line-height:16px;display:flex;color:#5B5B62;padding:10px;justify-content:end;' href='https://deepnote.com?utm_source=created-in-deepnote-cell&projectId=5de5f16a-6fc2-4d62-b482-732e375eb9ab' target=\"_blank\">\n<img alt='Created in deepnote.com' style='display:inline;max-height:16px;margin:0px;margin-right:7.5px;' src='data:image/svg+xml;base64,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' > </img>\nCreated in <span style='font-weight:600;margin-left:4px;'>Deepnote</span></a>",
   "metadata": {
    "tags": [],
    "created_in_deepnote_cell": true,
    "deepnote_cell_type": "markdown"
   }
  }
 ],
 "nbformat": 4,
 "nbformat_minor": 2,
 "metadata": {
  "orig_nbformat": 2,
  "deepnote": {},
  "deepnote_notebook_id": "f941417c-6e47-4101-999d-db61f05d4d62",
  "deepnote_execution_queue": []
 }
}