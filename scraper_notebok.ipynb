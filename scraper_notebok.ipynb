{
 "cells": [
  {
   "cell_type": "code",
   "execution_count": 1,
   "metadata": {
    "cell_id": "2b44397b-36d9-4f85-824b-92371f6b1bb2",
    "deepnote_cell_height": 153,
    "deepnote_cell_type": "code",
    "deepnote_to_be_reexecuted": false,
    "execution_millis": 44,
    "execution_start": 1652372897671,
    "source_hash": "ff29b93f",
    "tags": []
   },
   "outputs": [],
   "source": [
    "#Librerias para el scraping:\n",
    "import requests as requests\n",
    "import lxml.html as html\n",
    "import os\n",
    "import datetime"
   ]
  },
  {
   "cell_type": "markdown",
   "metadata": {
    "cell_id": "85d2a8df879448b28010ce3684ea459c",
    "deepnote_cell_height": 161.5625,
    "deepnote_cell_type": "markdown",
    "tags": []
   },
   "source": [
    "Links = '//div[@class=\"container\"]//div[not(@class=\"V_Trends\")]/h2/a/@href'\n",
    "\n",
    "Título = '//div[@class=\"mb-auto\"]/h2/a/text()'\n",
    "\n",
    "Resumen = '//div[@class=\"lead\"]/p/text()'\n",
    "\n",
    "Cuerpo = '//div[@class=\"html-content\"]/p[not(@class)]/text()'"
   ]
  },
  {
   "cell_type": "code",
   "execution_count": 2,
   "metadata": {
    "cell_id": "00001-07d961ac-e180-4417-9ee9-bc4a93b3c6ca",
    "deepnote_cell_height": 189,
    "deepnote_cell_type": "code",
    "deepnote_to_be_reexecuted": false,
    "execution_millis": 0,
    "execution_start": 1652372897715,
    "source_hash": "f51fd20b",
    "tags": []
   },
   "outputs": [],
   "source": [
    "# Variables constantes, cada variable es una expresión para determinado dato del scraping:\n",
    "\n",
    "HOME_URL = 'https://www.larepublica.co/'\n",
    "XPATH_LINK_TO_ARTICLE = '//a[contains(@class,\"kicker\")]/@href'\n",
    "XPATH_TITLE = '//div[@class=\"OpeningPostNormal\"]//text()'\n",
    "XPATH_SUMMARY = '//div[@class = \"lead\"]/p/text()'\n",
    "XPATH_BODY ='//div[@class=\"html-content\"]//text()'"
   ]
  },
  {
   "cell_type": "markdown",
   "metadata": {
    "cell_id": "00002-7f15414b-b293-499f-9aa0-3b2366799403",
    "deepnote_cell_height": 82,
    "deepnote_cell_type": "markdown",
    "tags": []
   },
   "source": [
    "# CODIGO NUEVO:"
   ]
  },
  {
   "cell_type": "code",
   "execution_count": 17,
   "metadata": {
    "cell_id": "1ad5f2bdef3b4a9ba3ff1506160e373c",
    "deepnote_cell_height": 243,
    "deepnote_cell_type": "code",
    "deepnote_to_be_reexecuted": false,
    "execution_millis": 5,
    "execution_start": 1652373587990,
    "source_hash": "f18984ab",
    "tags": []
   },
   "outputs": [],
   "source": [
    "# Función para obtener el titulo directamente del link: \n",
    "\n",
    "def get_title(link):\n",
    "    # 1 Separarémos por \"/\" y solo usaremos el ultimo que elemento \n",
    "    url = link.split('/')[-1]\n",
    "    # 2 Separarémos por \"-\" y borraremos el ultimo elemento\n",
    "    title_list=url.split('-')[:-1]\n",
    "    # 3 Unirémos todo lo anterion para obtener y retornar el titulo:\n",
    "    title = \" \".join(title_list)\n",
    "    return(title)"
   ]
  },
  {
   "cell_type": "code",
   "execution_count": 73,
   "metadata": {
    "cell_id": "00003-96902986-8bc2-4e07-a531-c090f7987f01",
    "deepnote_cell_height": 747,
    "deepnote_cell_type": "code",
    "deepnote_to_be_reexecuted": false,
    "execution_millis": 3,
    "execution_start": 1652374757368,
    "source_hash": "e25bf01d",
    "tags": []
   },
   "outputs": [],
   "source": [
    "# Función que obtiene los elementos de cada link generado por la función pars_home():\n",
    "\n",
    "def parse_notice(link, today):\n",
    "    name = link[-2:]\n",
    "    try:\n",
    "        response = requests.get(link)\n",
    "        if response.status_code == 200:\n",
    "            notice = response.content.decode('utf-8')\n",
    "            parsed = html.fromstring(notice)\n",
    "\n",
    "            try:\n",
    "                title = str(get_title(link)).capitalize()\n",
    "                y = int(title.find(' '))\n",
    "                name_file = name + title[:y]\n",
    "                summary = parsed.xpath(XPATH_SUMMARY)[0]\n",
    "                body = parsed.xpath(XPATH_BODY)  \n",
    "\n",
    "            except IndexError:\n",
    "                return\n",
    "\n",
    "            with open(f'{today}/{name_file}.txt', 'w', encoding='utf-8') as f:\n",
    "                f.write('Titulo: ')\n",
    "                f.write(title)\n",
    "                f.write('\\n\\n')\n",
    "                f.write('Resumen: ')\n",
    "                f.write(summary)\n",
    "                f.write('\\n\\n')\n",
    "                f.write('Cuerpo: ')\n",
    "                for p in body:\n",
    "                    f.write(p)\n",
    "                    f.write('\\n')\n",
    "                f.write('\\n\\n\\n')\n",
    "                f.write(f'Link de la noticia: {link}')\n",
    "        \n",
    "        else:\n",
    "            raise ValueError(f'Error: {response.status_code}')\n",
    "    except ValueError as ve:\n",
    "        print(ve) "
   ]
  },
  {
   "cell_type": "code",
   "execution_count": 74,
   "metadata": {
    "cell_id": "d06e672e152d4ece8fcb778ec23494b6",
    "deepnote_cell_height": 423,
    "deepnote_cell_type": "code",
    "deepnote_to_be_reexecuted": false,
    "execution_millis": 2,
    "execution_start": 1652374773144,
    "source_hash": "bb404b7b",
    "tags": []
   },
   "outputs": [],
   "source": [
    "# Función que obtiene los links de las noticias del periodico:\n",
    "def pars_home():\n",
    "    try:\n",
    "        response = requests.get(HOME_URL)\n",
    "        if response.status_code == 200:\n",
    "            home = response.content.decode('utf-8')\n",
    "            parsed = html.fromstring(home)\n",
    "            links_to_notices = parsed.xpath(XPATH_LINK_TO_ARTICLE)\n",
    "            # print(links_to_notices)\n",
    "\n",
    "            today = datetime.date.today().strftime('%d-%m-%Y')\n",
    "            if not os.path.isdir(today):\n",
    "                os.mkdir(today)\n",
    "\n",
    "            for link in links_to_notices:\n",
    "                parse_notice(link, today)\n",
    "        else:\n",
    "            raise ValueError(f'Error: {response.status_code}')\n",
    "    except ValueError as ve:\n",
    "        print(ve)"
   ]
  },
  {
   "cell_type": "code",
   "execution_count": 75,
   "metadata": {
    "cell_id": "00005-ba9a1b07-9a12-49ff-bd24-cd6560171657",
    "deepnote_cell_height": 153,
    "deepnote_cell_type": "code",
    "deepnote_to_be_reexecuted": false,
    "execution_millis": 1803,
    "execution_start": 1652374797547,
    "owner_user_id": "46fc49a6-85dd-4f3e-a856-828c508d5f95",
    "source_hash": "6448062e",
    "tags": []
   },
   "outputs": [],
   "source": [
    "def run():\n",
    "    pars_home()\n",
    "\n",
    "if __name__ == '__main__':\n",
    "    run()"
   ]
  },
  {
   "cell_type": "markdown",
   "metadata": {
    "created_in_deepnote_cell": true,
    "deepnote_cell_type": "markdown",
    "tags": []
   },
   "source": [
    "<a style='text-decoration:none;line-height:16px;display:flex;color:#5B5B62;padding:10px;justify-content:end;' href='https://deepnote.com?utm_source=created-in-deepnote-cell&projectId=5de5f16a-6fc2-4d62-b482-732e375eb9ab' target=\"_blank\">\n",
    "<img alt='Created in deepnote.com' style='display:inline;max-height:16px;margin:0px;margin-right:7.5px;' src='data:image/svg+xml;base64,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' > </img>\n",
    "Created in <span style='font-weight:600;margin-left:4px;'>Deepnote</span></a>"
   ]
  }
 ],
 "metadata": {
  "deepnote": {},
  "deepnote_execution_queue": [],
  "deepnote_notebook_id": "63851fd3-f495-4994-b28f-db08dac73351",
  "kernelspec": {
   "display_name": "Python 3.9.6 64-bit",
   "language": "python",
   "name": "python3"
  },
  "language_info": {
   "name": "python",
   "version": "3.9.6"
  },
  "orig_nbformat": 2,
  "vscode": {
   "interpreter": {
    "hash": "14bf9e166954d84cd750c414655aa7b1193192d2ba1d96fa34f430cc20fcaf3a"
   }
  }
 },
 "nbformat": 4,
 "nbformat_minor": 2
}
