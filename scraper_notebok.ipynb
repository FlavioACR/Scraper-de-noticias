{
 "cells": [
  {
   "cell_type": "code",
   "metadata": {
    "tags": [],
    "deepnote_to_be_reexecuted": false,
    "source_hash": "ff29b93f",
    "execution_start": 1652372897671,
    "execution_millis": 44,
    "cell_id": "2b44397b-36d9-4f85-824b-92371f6b1bb2",
    "deepnote_cell_type": "code",
    "deepnote_cell_height": 153
   },
   "source": "#Librerias para el scraping:\nimport requests as requests\nimport lxml.html as html\nimport os\nimport datetime",
   "execution_count": 1,
   "outputs": []
  },
  {
   "cell_type": "markdown",
   "source": "Links = '//div[@class=\"container\"]//div[not(@class=\"V_Trends\")]/h2/a/@href'\n\nTítulo = '//div[@class=\"mb-auto\"]/h2/a/text()'\n\nResumen = '//div[@class=\"lead\"]/p/text()'\n\nCuerpo = '//div[@class=\"html-content\"]/p[not(@class)]/text()'",
   "metadata": {
    "cell_id": "85d2a8df879448b28010ce3684ea459c",
    "tags": [],
    "deepnote_cell_type": "markdown",
    "deepnote_cell_height": 161.5625
   }
  },
  {
   "cell_type": "code",
   "metadata": {
    "tags": [],
    "deepnote_to_be_reexecuted": false,
    "source_hash": "f51fd20b",
    "execution_start": 1652372897715,
    "execution_millis": 0,
    "cell_id": "00001-07d961ac-e180-4417-9ee9-bc4a93b3c6ca",
    "deepnote_cell_type": "code",
    "deepnote_cell_height": 189
   },
   "source": "# Variables constantes, cada variable es una expresión para determinado dato del scraping:\n\nHOME_URL = 'https://www.larepublica.co/'\nXPATH_LINK_TO_ARTICLE = '//a[contains(@class,\"kicker\")]/@href'\nXPATH_TITLE = '//div[@class=\"OpeningPostNormal\"]//text()'\nXPATH_SUMMARY = '//div[@class = \"lead\"]/p/text()'\nXPATH_BODY ='//div[@class=\"html-content\"]//text()'",
   "execution_count": 2,
   "outputs": []
  },
  {
   "cell_type": "markdown",
   "source": "# CODIGO NUEVO:",
   "metadata": {
    "tags": [],
    "cell_id": "00002-7f15414b-b293-499f-9aa0-3b2366799403",
    "deepnote_cell_type": "markdown",
    "deepnote_cell_height": 82
   }
  },
  {
   "cell_type": "code",
   "metadata": {
    "cell_id": "1ad5f2bdef3b4a9ba3ff1506160e373c",
    "tags": [],
    "deepnote_to_be_reexecuted": false,
    "source_hash": "f18984ab",
    "execution_start": 1652373587990,
    "execution_millis": 5,
    "deepnote_cell_type": "code",
    "deepnote_cell_height": 243
   },
   "source": "# Función para obtener el titulo directamente del link: \n\ndef get_title(link):\n    # 1 Separarémos por \"/\" y solo usaremos el ultimo que elemento \n    url = link.split('/')[-1]\n    # 2 Separarémos por \"-\" y borraremos el ultimo elemento\n    title_list=url.split('-')[:-1]\n    # 3 Unirémos todo lo anterion para obtener y retornar el titulo:\n    title = \" \".join(title_list)\n    return(title)",
   "execution_count": 17,
   "outputs": []
  },
  {
   "cell_type": "code",
   "metadata": {
    "tags": [],
    "deepnote_to_be_reexecuted": false,
    "source_hash": "e25bf01d",
    "execution_start": 1652374757368,
    "execution_millis": 3,
    "cell_id": "00003-96902986-8bc2-4e07-a531-c090f7987f01",
    "deepnote_cell_type": "code",
    "deepnote_cell_height": 747
   },
   "source": "# Función que obtiene los elementos de cada link generado por la función pars_home():\n\ndef parse_notice(link, today):\n    name = link[-2:]\n    try:\n        response = requests.get(link)\n        if response.status_code == 200:\n            notice = response.content.decode('utf-8')\n            parsed = html.fromstring(notice)\n\n            try:\n                title = str(get_title(link)).capitalize()\n                y = int(title.find(' '))\n                name_file = name + title[:y]\n                summary = parsed.xpath(XPATH_SUMMARY)[0]\n                body = parsed.xpath(XPATH_BODY)  \n\n            except IndexError:\n                return\n\n            with open(f'{today}/{name_file}.txt', 'w', encoding='utf-8') as f:\n                f.write('Titulo: ')\n                f.write(title)\n                f.write('\\n\\n')\n                f.write('Resumen: ')\n                f.write(summary)\n                f.write('\\n\\n')\n                f.write('Cuerpo: ')\n                for p in body:\n                    f.write(p)\n                    f.write('\\n')\n                f.write('\\n\\n\\n')\n                f.write(f'Link de la noticia: {link}')\n        \n        else:\n            raise ValueError(f'Error: {response.status_code}')\n    except ValueError as ve:\n        print(ve) ",
   "execution_count": 73,
   "outputs": []
  },
  {
   "cell_type": "code",
   "metadata": {
    "cell_id": "d06e672e152d4ece8fcb778ec23494b6",
    "tags": [],
    "deepnote_to_be_reexecuted": false,
    "source_hash": "bb404b7b",
    "execution_start": 1652374773144,
    "execution_millis": 2,
    "deepnote_cell_type": "code",
    "deepnote_cell_height": 423
   },
   "source": "# Función que obtiene los links de las noticias del periodico:\ndef pars_home():\n    try:\n        response = requests.get(HOME_URL)\n        if response.status_code == 200:\n            home = response.content.decode('utf-8')\n            parsed = html.fromstring(home)\n            links_to_notices = parsed.xpath(XPATH_LINK_TO_ARTICLE)\n            # print(links_to_notices)\n\n            today = datetime.date.today().strftime('%d-%m-%Y')\n            if not os.path.isdir(today):\n                os.mkdir(today)\n\n            for link in links_to_notices:\n                parse_notice(link, today)\n        else:\n            raise ValueError(f'Error: {response.status_code}')\n    except ValueError as ve:\n        print(ve)",
   "execution_count": 74,
   "outputs": []
  },
  {
   "cell_type": "code",
   "metadata": {
    "tags": [],
    "deepnote_to_be_reexecuted": false,
    "source_hash": "6448062e",
    "execution_start": 1652374797547,
    "execution_millis": 1803,
    "cell_id": "00005-ba9a1b07-9a12-49ff-bd24-cd6560171657",
    "owner_user_id": "46fc49a6-85dd-4f3e-a856-828c508d5f95",
    "deepnote_cell_type": "code",
    "deepnote_cell_height": 153
   },
   "source": "def run():\n    pars_home()\n\nif __name__ == '__main__':\n    run()",
   "execution_count": 75,
   "outputs": []
  },
  {
   "cell_type": "markdown",
   "source": "<a style='text-decoration:none;line-height:16px;display:flex;color:#5B5B62;padding:10px;justify-content:end;' href='https://deepnote.com?utm_source=created-in-deepnote-cell&projectId=5de5f16a-6fc2-4d62-b482-732e375eb9ab' target=\"_blank\">\n<img alt='Created in deepnote.com' style='display:inline;max-height:16px;margin:0px;margin-right:7.5px;' src='data:image/svg+xml;base64,PD94bWwgdmVyc2lvbj0iMS4wIiBlbmNvZGluZz0iVVRGLTgiPz4KPHN2ZyB3aWR0aD0iODBweCIgaGVpZ2h0PSI4MHB4IiB2aWV3Qm94PSIwIDAgODAgODAiIHZlcnNpb249IjEuMSIgeG1sbnM9Imh0dHA6Ly93d3cudzMub3JnLzIwMDAvc3ZnIiB4bWxuczp4bGluaz0iaHR0cDovL3d3dy53My5vcmcvMTk5OS94bGluayI+CiAgICA8IS0tIEdlbmVyYXRvcjogU2tldGNoIDU0LjEgKDc2NDkwKSAtIGh0dHBzOi8vc2tldGNoYXBwLmNvbSAtLT4KICAgIDx0aXRsZT5Hcm91cCAzPC90aXRsZT4KICAgIDxkZXNjPkNyZWF0ZWQgd2l0aCBTa2V0Y2guPC9kZXNjPgogICAgPGcgaWQ9IkxhbmRpbmciIHN0cm9rZT0ibm9uZSIgc3Ryb2tlLXdpZHRoPSIxIiBmaWxsPSJub25lIiBmaWxsLXJ1bGU9ImV2ZW5vZGQiPgogICAgICAgIDxnIGlkPSJBcnRib2FyZCIgdHJhbnNmb3JtPSJ0cmFuc2xhdGUoLTEyMzUuMDAwMDAwLCAtNzkuMDAwMDAwKSI+CiAgICAgICAgICAgIDxnIGlkPSJHcm91cC0zIiB0cmFuc2Zvcm09InRyYW5zbGF0ZSgxMjM1LjAwMDAwMCwgNzkuMDAwMDAwKSI+CiAgICAgICAgICAgICAgICA8cG9seWdvbiBpZD0iUGF0aC0yMCIgZmlsbD0iIzAyNjVCNCIgcG9pbnRzPSIyLjM3NjIzNzYyIDgwIDM4LjA0NzY2NjcgODAgNTcuODIxNzgyMiA3My44MDU3NTkyIDU3LjgyMTc4MjIgMzIuNzU5MjczOSAzOS4xNDAyMjc4IDMxLjY4MzE2ODMiPjwvcG9seWdvbj4KICAgICAgICAgICAgICAgIDxwYXRoIGQ9Ik0zNS4wMDc3MTgsODAgQzQyLjkwNjIwMDcsNzYuNDU0OTM1OCA0Ny41NjQ5MTY3LDcxLjU0MjI2NzEgNDguOTgzODY2LDY1LjI2MTk5MzkgQzUxLjExMjI4OTksNTUuODQxNTg0MiA0MS42NzcxNzk1LDQ5LjIxMjIyODQgMjUuNjIzOTg0Niw0OS4yMTIyMjg0IEMyNS40ODQ5Mjg5LDQ5LjEyNjg0NDggMjkuODI2MTI5Niw0My4yODM4MjQ4IDM4LjY0NzU4NjksMzEuNjgzMTY4MyBMNzIuODcxMjg3MSwzMi41NTQ0MjUgTDY1LjI4MDk3Myw2Ny42NzYzNDIxIEw1MS4xMTIyODk5LDc3LjM3NjE0NCBMMzUuMDA3NzE4LDgwIFoiIGlkPSJQYXRoLTIyIiBmaWxsPSIjMDAyODY4Ij48L3BhdGg+CiAgICAgICAgICAgICAgICA8cGF0aCBkPSJNMCwzNy43MzA0NDA1IEwyNy4xMTQ1MzcsMC4yNTcxMTE0MzYgQzYyLjM3MTUxMjMsLTEuOTkwNzE3MDEgODAsMTAuNTAwMzkyNyA4MCwzNy43MzA0NDA1IEM4MCw2NC45NjA0ODgyIDY0Ljc3NjUwMzgsNzkuMDUwMzQxNCAzNC4zMjk1MTEzLDgwIEM0Ny4wNTUzNDg5LDc3LjU2NzA4MDggNTMuNDE4MjY3Nyw3MC4zMTM2MTAzIDUzLjQxODI2NzcsNTguMjM5NTg4NSBDNTMuNDE4MjY3Nyw0MC4xMjg1NTU3IDM2LjMwMzk1NDQsMzcuNzMwNDQwNSAyNS4yMjc0MTcsMzcuNzMwNDQwNSBDMTcuODQzMDU4NiwzNy43MzA0NDA1IDkuNDMzOTE5NjYsMzcuNzMwNDQwNSAwLDM3LjczMDQ0MDUgWiIgaWQ9IlBhdGgtMTkiIGZpbGw9IiMzNzkzRUYiPjwvcGF0aD4KICAgICAgICAgICAgPC9nPgogICAgICAgIDwvZz4KICAgIDwvZz4KPC9zdmc+' > </img>\nCreated in <span style='font-weight:600;margin-left:4px;'>Deepnote</span></a>",
   "metadata": {
    "tags": [],
    "created_in_deepnote_cell": true,
    "deepnote_cell_type": "markdown"
   }
  }
 ],
 "nbformat": 4,
 "nbformat_minor": 2,
 "metadata": {
  "orig_nbformat": 2,
  "deepnote": {},
  "deepnote_notebook_id": "63851fd3-f495-4994-b28f-db08dac73351",
  "deepnote_execution_queue": []
 }
}