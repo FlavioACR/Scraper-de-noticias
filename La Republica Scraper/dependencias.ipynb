{
 "cells": [
  {
   "cell_type": "code",
   "metadata": {
    "cell_id": "817fc871982f46b1b97f10428064b5d5",
    "tags": [],
    "deepnote_to_be_reexecuted": false,
    "source_hash": "c0afc510",
    "execution_start": 1651859752949,
    "execution_millis": 3008,
    "owner_user_id": "46fc49a6-85dd-4f3e-a856-828c508d5f95",
    "deepnote_cell_type": "code",
    "deepnote_cell_height": 336.0625
   },
   "source": "# Intalación de Dependencias:\n!pip install requests lxml autopep8",
   "execution_count": null,
   "outputs": [
    {
     "name": "stdout",
     "text": "Requirement already satisfied: requests in /shared-libs/python3.7/py/lib/python3.7/site-packages (2.27.1)\nRequirement already satisfied: lxml in /shared-libs/python3.7/py/lib/python3.7/site-packages (4.8.0)\nRequirement already satisfied: autopep8 in /root/venv/lib/python3.7/site-packages (1.6.0)\nRequirement already satisfied: urllib3<1.27,>=1.21.1 in /shared-libs/python3.7/py/lib/python3.7/site-packages (from requests) (1.26.9)\nRequirement already satisfied: idna<4,>=2.5; python_version >= \"3\" in /shared-libs/python3.7/py-core/lib/python3.7/site-packages (from requests) (3.3)\nRequirement already satisfied: certifi>=2017.4.17 in /shared-libs/python3.7/py/lib/python3.7/site-packages (from requests) (2021.10.8)\nRequirement already satisfied: charset-normalizer~=2.0.0; python_version >= \"3\" in /shared-libs/python3.7/py-core/lib/python3.7/site-packages (from requests) (2.0.12)\nRequirement already satisfied: pycodestyle>=2.8.0 in /root/venv/lib/python3.7/site-packages (from autopep8) (2.8.0)\nRequirement already satisfied: toml in /root/venv/lib/python3.7/site-packages (from autopep8) (0.10.2)\n\u001b[33mWARNING: You are using pip version 20.1.1; however, version 22.0.4 is available.\nYou should consider upgrading via the '/root/venv/bin/python -m pip install --upgrade pip' command.\u001b[0m\n",
     "output_type": "stream"
    }
   ]
  },
  {
   "cell_type": "code",
   "metadata": {
    "cell_id": "feb9337cda244bd389aa1e82f1676356",
    "tags": [],
    "deepnote_to_be_reexecuted": false,
    "source_hash": "e404c002",
    "execution_start": 1651859755962,
    "execution_millis": 4423,
    "deepnote_cell_type": "code",
    "deepnote_cell_height": 356.25
   },
   "source": "# Actualizando PIP:\n!python -m pip install pip--upgrade",
   "execution_count": null,
   "outputs": [
    {
     "name": "stdout",
     "text": "Collecting pip--upgrade\n  Downloading pip-upgrade-0.0.6.zip (6.3 kB)\nRequirement already satisfied: pip>=1.5.1 in /root/venv/lib/python3.7/site-packages (from pip--upgrade) (20.1.1)\nBuilding wheels for collected packages: pip-upgrade\n  Building wheel for pip-upgrade (setup.py) ... \u001b[?25ldone\n\u001b[?25h  Created wheel for pip-upgrade: filename=pip_upgrade-0.0.6-py3-none-any.whl size=4267 sha256=668612203c815cc16542de11005168284c79e6bb2e354c6b78ac5b18efd24015\n  Stored in directory: /root/.cache/pip/wheels/6f/2e/a3/e1982f2cef186158199b2bbfecc94f2808d2631d3faec08830\nSuccessfully built pip-upgrade\nInstalling collected packages: pip-upgrade\nSuccessfully installed pip-upgrade-0.0.6\n\u001b[33mWARNING: You are using pip version 20.1.1; however, version 22.0.4 is available.\nYou should consider upgrading via the '/root/venv/bin/python -m pip install --upgrade pip' command.\u001b[0m\n",
     "output_type": "stream"
    }
   ]
  },
  {
   "cell_type": "markdown",
   "source": "# Reglas de Sitio:\nUser-agent: Googlebot\nAllow: /\nUser-agent: Googlebot\nDisallow: /vista-previa/\nUser-agent: Googlebot-News\nAllow: /\nUser-agent: Googlebot-News\nDisallow: /vista-previa/\nUser-agent: *\nAllow: /\nUser-agent: *\nDisallow: /vista-previa/\nDisallow: /pagos/\nSitemap: https://www.larepublica.co/sitemapindex\nSitemap: https://www.larepublica.co/sitemapnews",
   "metadata": {
    "cell_id": "5ec1928e506e4694afa89ec79653c3da",
    "tags": [],
    "deepnote_cell_type": "markdown",
    "deepnote_cell_height": 209.953125
   }
  },
  {
   "cell_type": "markdown",
   "source": "<a style='text-decoration:none;line-height:16px;display:flex;color:#5B5B62;padding:10px;justify-content:end;' href='https://deepnote.com?utm_source=created-in-deepnote-cell&projectId=5de5f16a-6fc2-4d62-b482-732e375eb9ab' target=\"_blank\">\n<img alt='Created in deepnote.com' style='display:inline;max-height:16px;margin:0px;margin-right:7.5px;' src='data:image/svg+xml;base64,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' > </img>\nCreated in <span style='font-weight:600;margin-left:4px;'>Deepnote</span></a>",
   "metadata": {
    "tags": [],
    "created_in_deepnote_cell": true,
    "deepnote_cell_type": "markdown"
   }
  }
 ],
 "nbformat": 4,
 "nbformat_minor": 2,
 "metadata": {
  "orig_nbformat": 2,
  "deepnote": {},
  "deepnote_notebook_id": "4d102617-ce40-42be-a07c-0544e90a2e7b",
  "deepnote_execution_queue": []
 }
}