{
 "cells": [
  {
   "cell_type": "markdown",
   "source": "# Clase 5\n## HTML\nHypertext Markup Language\n",
   "metadata": {
    "cell_id": "10202f5bea014e1b93ded72cdd0d983a",
    "tags": [],
    "deepnote_cell_type": "markdown",
    "deepnote_cell_height": 176.390625
   }
  },
  {
   "cell_type": "markdown",
   "source": "Es un lenguaje que define la estructura de una web page.\n* < script > hace referencia a un código ejecutable\n* < meta > aporta información extra al documento (metadatos)\n* < iframe > colocar paginas externas dentro de la página actual",
   "metadata": {
    "cell_id": "242891f1d4f0493ba9432f28c026eb9a",
    "tags": [],
    "deepnote_cell_type": "markdown",
    "deepnote_cell_height": 153.5625
   }
  },
  {
   "cell_type": "markdown",
   "source": "# Clase 6 \n## Robots.txt: permisos y consideraciones al hacer web scraping\n",
   "metadata": {
    "cell_id": "99f84190f5144b5cbc9a3a8b3e3e7f6c",
    "tags": [],
    "deepnote_cell_type": "markdown",
    "deepnote_cell_height": 178
   }
  },
  {
   "cell_type": "markdown",
   "source": "* Robots.txt:\n    * Archivo para evitar el web scraping estendido y perjudicante.\n    * Platzi: \n        * Path o ruta + robots.txt = https://platzi.com/robots.txt\n",
   "metadata": {
    "cell_id": "1124d31d4760459086670b37269997f7",
    "tags": [],
    "deepnote_cell_type": "markdown",
    "deepnote_cell_height": 145.5625
   }
  },
  {
   "cell_type": "markdown",
   "source": "### Archivo:\n* Define reglas para poder o no extraer datos.\n* Define permisos a los cuales limitantes para ciertos visitantes, cuestion de buenas practicas, es importante considerarlo para hacer un web scraper ético",
   "metadata": {
    "cell_id": "5885ccfa309044f8b011f778d5133c1b",
    "tags": [],
    "deepnote_cell_type": "markdown",
    "deepnote_cell_height": 162.171875
   }
  },
  {
   "cell_type": "markdown",
   "source": "User-Agent: *\nAllow: /conf/*\nAllow: /conf-og/*\nDisallow: /*/*/concepto/*/*/material/\nDisallow: /login/facebook/\nDisallow: /login/twitter/\nDisallow: /*/*/live/\nDisallow: /*/*/%7B%7Burl%20absolute=/\nDisallow: /*/*/add_contribution/\nDisallow: /mi-suscripcion/\nDisallow: /r/\nDisallow: /clases/*/nuevos_materiales/\nDisallow: /kit-ui/\nDisallow: /ui/\nDisallow: /sfotipy/\nDisallow: /streaming/*\nDisallow: /payments/*\nDisallow: /*/add_review/\nDisallow: /*/save/\nDisallow: /adquirir/*\nDisallow: /comentario/\nDisallow: /comment/\nDisallow: /comprar/\nDisallow: /precios/*/\nDisallow: /yearly-stats-share/\nDisallow: /courses/\nDisallow: /historias/\nDisallow: /becas-fb/\nDisallow: /testimonios/\n\nSitemap: https://platzi.com/sitemap.xml",
   "metadata": {
    "cell_id": "e483f5a10fc0441bac34af3b5afe2c17",
    "tags": [],
    "is_collapsed": false,
    "owner_user_id": "46fc49a6-85dd-4f3e-a856-828c508d5f95",
    "deepnote_cell_type": "text-cell-p"
   }
  },
  {
   "cell_type": "markdown",
   "source": "",
   "metadata": {
    "cell_id": "9528ed479d6946599ddaacf7c2ac32c8",
    "tags": [],
    "is_collapsed": false,
    "deepnote_cell_type": "text-cell-p"
   }
  },
  {
   "cell_type": "markdown",
   "source": "<a style='text-decoration:none;line-height:16px;display:flex;color:#5B5B62;padding:10px;justify-content:end;' href='https://deepnote.com?utm_source=created-in-deepnote-cell&projectId=5de5f16a-6fc2-4d62-b482-732e375eb9ab' target=\"_blank\">\n<img alt='Created in deepnote.com' style='display:inline;max-height:16px;margin:0px;margin-right:7.5px;' src='data:image/svg+xml;base64,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' > </img>\nCreated in <span style='font-weight:600;margin-left:4px;'>Deepnote</span></a>",
   "metadata": {
    "tags": [],
    "created_in_deepnote_cell": true,
    "deepnote_cell_type": "markdown"
   }
  }
 ],
 "nbformat": 4,
 "nbformat_minor": 2,
 "metadata": {
  "orig_nbformat": 2,
  "deepnote": {},
  "deepnote_notebook_id": "1c683c48-2260-4eeb-93e5-acba38924fc3",
  "deepnote_execution_queue": []
 }
}