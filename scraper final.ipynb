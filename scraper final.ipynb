{
 "cells": [
  {
   "cell_type": "code",
   "metadata": {
    "cell_id": "63f18c97afa34c21b77139d27c025a2a",
    "tags": [],
    "deepnote_to_be_reexecuted": false,
    "source_hash": "7cbe2193",
    "execution_start": 1652277594339,
    "execution_millis": 96,
    "deepnote_cell_type": "code",
    "deepnote_cell_height": 189
   },
   "source": "# Librerias:\nimport requests as req\nimport lxml.html as html\n# Para la casi ultima clase\nimport os\nimport datetime\n",
   "execution_count": 1,
   "outputs": []
  },
  {
   "cell_type": "code",
   "metadata": {
    "cell_id": "2e2dd8b6272942d38d14604606f38ebe",
    "tags": [],
    "deepnote_to_be_reexecuted": false,
    "source_hash": "3894d3e5",
    "execution_start": 1652277594435,
    "execution_millis": 1,
    "deepnote_cell_type": "code",
    "deepnote_cell_height": 153
   },
   "source": "HOME_URL = 'https://www.larepublica.co/'\nXPATH_LINK_TO_ARTICLE = '//a[contains(@class,\"kicker\")]/@href'\nXPATH_TITLE = '//div[@class = \"wrap-info\"]/h1/text()'\nXPATH_SUMMARY = '//div[@class = \"lead\"]/p/text()'\nXPATH_BODY ='//div[@class=\"html-content\"]//text()'",
   "execution_count": 2,
   "outputs": []
  },
  {
   "cell_type": "code",
   "metadata": {
    "cell_id": "20394155b0ea4220b85713bc606ecd31",
    "tags": [],
    "deepnote_to_be_reexecuted": false,
    "source_hash": "a34a2e12",
    "execution_start": 1652277594436,
    "execution_millis": 44,
    "deepnote_cell_type": "code",
    "deepnote_cell_height": 765
   },
   "source": "def get_title(link):\n    #separamos por \"/\" y nos quedamos con el ultimo que elemento \n    url = link.split('/')[-1]\n    #separamos por \"-\" y eliminamos el ultimo elemento\n    title_list=url.split('-')[:-1]\n    #Unimos lo anterior\n    title = \" \".join(title_list)\n    return(title)\n\ndef parsed_notice(link, today):\n    try:\n        response = req.get(link)\n        if response.status_code == 200:\n            #Traer el doc html:\n            notice = response.content.decode('utf-8')\n            parsed = html.fromstring(notice)\n\n            try:\n                # Devuelde la lista pero solo queremos el titulo\n                title = get_title(link)\n                summary = parsed.xpath(XPATH_SUMMARY)[0]\n                body = parsed.xpath(XPATH_BODY)\n            except IndexError:\n                return\n            #Guardar en archivo:\n            # Ver función de f \"\"\n            with open(f'{today}/{title}.txt', 'w', encoding='utf-8') as f:\n                f.write(title)\n                f.write('\\n\\n')\n                f.write(summary)\n                f.write('\\n\\n')\n                for p in body:\n                    f.write(p)\n                    f.write('\\n')\n\n        else:\n            raise ValueError(f'Error: {response.status_code}')\n    except ValueError as ve:\n        print(ve)",
   "execution_count": 3,
   "outputs": []
  },
  {
   "cell_type": "code",
   "metadata": {
    "cell_id": "3eedb829fc424ff4a66633a54a2bcdff",
    "tags": [],
    "deepnote_to_be_reexecuted": false,
    "source_hash": "c4fe894a",
    "execution_start": 1652277594480,
    "execution_millis": 0,
    "owner_user_id": "46fc49a6-85dd-4f3e-a856-828c508d5f95",
    "deepnote_cell_type": "code",
    "deepnote_cell_height": 549
   },
   "source": "def pars_home():\n    try:\n        response = req.get(HOME_URL)\n        if response.status_code == 200:\n            # El metodo content trae todo el documento html\n            # El metodos decode permite no tener errores con caracteres especiales\n            home = response.content.decode('utf-8')\n            # Tranforma el contenido htlm para poder hacer spam\n            parsed = html.fromstring(home)\n            # El metodo parsed\n            links_notice = parsed.xpath(XPATH_LINK_TO_ARTICLE)\n            #print(links_notice)\n\n            #Variable para crear la carpeta de almacenamiento:\n            today = datetime.date.today().strftime('%d-%m-%Y')\n            # Si no existe la carpeta una carpeta con la fecha\n            # de hoy crearla:\n            if not os.path.isdir(today):\n                os.mkdir(today)\n\n            for link in links_notice:\n                parsed_notice(link, today)\n        else:\n            raise ValueError(f'Error: {response.status_code}')\n    except ValueError as ve:\n        print(ve)\n",
   "execution_count": 4,
   "outputs": []
  },
  {
   "cell_type": "code",
   "metadata": {
    "cell_id": "150b8e10006344ea82f8cea3fc5ad911",
    "tags": [],
    "deepnote_to_be_reexecuted": false,
    "source_hash": "a1363559",
    "execution_start": 1652277594480,
    "execution_millis": 1,
    "deepnote_cell_type": "code",
    "deepnote_cell_height": 99
   },
   "source": "def run():\n    pars_home()",
   "execution_count": 5,
   "outputs": []
  },
  {
   "cell_type": "code",
   "metadata": {
    "cell_id": "d762dd73b92b47cb90d0a5364977a73d",
    "tags": [],
    "deepnote_to_be_reexecuted": false,
    "source_hash": "f270bd60",
    "execution_start": 1652277594481,
    "execution_millis": 2002,
    "deepnote_cell_type": "code",
    "deepnote_cell_height": 99
   },
   "source": "if __name__ == '__main__':\n    run()",
   "execution_count": 6,
   "outputs": []
  },
  {
   "cell_type": "code",
   "metadata": {
    "cell_id": "4f57bffa9bf54224a55c00eda7cf6247",
    "tags": [],
    "deepnote_to_be_reexecuted": false,
    "source_hash": "b623e53d",
    "execution_start": 1652277596483,
    "execution_millis": 55,
    "deepnote_cell_type": "code",
    "deepnote_cell_height": 81
   },
   "source": "",
   "execution_count": 6,
   "outputs": []
  },
  {
   "cell_type": "markdown",
   "source": "<a style='text-decoration:none;line-height:16px;display:flex;color:#5B5B62;padding:10px;justify-content:end;' href='https://deepnote.com?utm_source=created-in-deepnote-cell&projectId=5de5f16a-6fc2-4d62-b482-732e375eb9ab' target=\"_blank\">\n<img alt='Created in deepnote.com' style='display:inline;max-height:16px;margin:0px;margin-right:7.5px;' src='data:image/svg+xml;base64,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' > </img>\nCreated in <span style='font-weight:600;margin-left:4px;'>Deepnote</span></a>",
   "metadata": {
    "tags": [],
    "created_in_deepnote_cell": true,
    "deepnote_cell_type": "markdown"
   }
  }
 ],
 "nbformat": 4,
 "nbformat_minor": 2,
 "metadata": {
  "orig_nbformat": 2,
  "deepnote": {},
  "deepnote_notebook_id": "492d1136-ec2c-495b-880e-3efbb36fe1f4",
  "deepnote_execution_queue": []
 }
}